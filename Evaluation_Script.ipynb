{
 "cells": [
  {
   "cell_type": "code",
   "execution_count": 1,
   "id": "9e40989d-0f23-474c-bdaf-c80d278b84c2",
   "metadata": {},
   "outputs": [],
   "source": [
    "import pandas as pd\n",
    "import numpy as np\n",
    "import torch\n",
    "import torch.nn as nn\n",
    "import torch.optim as optim\n",
    "from sklearn.model_selection import train_test_split\n",
    "from sklearn.preprocessing import StandardScaler\n",
    "from sklearn.metrics import r2_score, mean_squared_error, mean_absolute_error"
   ]
  },
  {
   "cell_type": "code",
   "execution_count": 2,
   "id": "bf965f3a-2396-4785-aec4-9584358a34a2",
   "metadata": {},
   "outputs": [],
   "source": [
    "class ConcreteStrength(nn.Module):\n",
    "        def __init__(self, input_dim):\n",
    "            super(ConcreteStrength, self).__init__()\n",
    "            self.model = nn.Sequential(\n",
    "                nn.Linear(input_dim, 128),\n",
    "                nn.ReLU(),\n",
    "                nn.Linear(128, 64),\n",
    "                nn.ReLU(),\n",
    "                nn.Linear(64, 32),\n",
    "                nn.ReLU(),\n",
    "                nn.Linear(32, 1)  # Output layer\n",
    "            )\n",
    "    \n",
    "        def forward(self, x):\n",
    "            return self.model(x)\n",
    "    "
   ]
  },
  {
   "cell_type": "code",
   "execution_count": 5,
   "id": "0fb4fb03-3bc6-4b32-b172-a9b2727470b5",
   "metadata": {},
   "outputs": [],
   "source": [
    "model = torch.load(\"Model.pth\")"
   ]
  },
  {
   "cell_type": "code",
   "execution_count": 7,
   "id": "5cc8a4c6-7087-4f2c-a773-af90ed864f83",
   "metadata": {},
   "outputs": [
    {
     "name": "stdout",
     "output_type": "stream",
     "text": [
      "Scaler restored successfully!\n"
     ]
    }
   ],
   "source": [
    "scaler_params = {\n",
    "    \"mean_\": [\n",
    "        283.36080097087375,\n",
    "        2.5552736017613937,\n",
    "        2.091743575425426,\n",
    "        181.79708737864075,\n",
    "        1.4479760883048582,\n",
    "        973.5485436893204,\n",
    "        772.1074029126214,\n",
    "        3.239097061274715\n",
    "    ],\n",
    "    \"scale_\": [\n",
    "        107.47113139056532,\n",
    "        2.4137541776391926,\n",
    "        2.3698221380244933,\n",
    "        21.308962544444068,\n",
    "        1.1534634219125226,\n",
    "        78.646864026356,\n",
    "        80.93556052399222,\n",
    "        1.1001286591127104\n",
    "    ],\n",
    "    \"var_\": [\n",
    "        11550.044082368155,\n",
    "        5.826209230070655,\n",
    "        5.616056965870981,\n",
    "        454.07188472052025,\n",
    "        1.3304778656901461,\n",
    "        6185.329221180129,\n",
    "        6550.564957332807,\n",
    "        1.21028306660113\n",
    "    ],\n",
    "    \"n_samples_seen_\": 824,\n",
    "    \"feature_names_in_\": [\n",
    "        \"Cement\",\n",
    "        \"BlastFurnaceSlag\",\n",
    "        \"FlyAsh\",\n",
    "        \"Water\",\n",
    "        \"Superplasticizer\",\n",
    "        \"CoarseAggregate\",\n",
    "        \"FineAggregate\",\n",
    "        \"Age\"\n",
    "    ]\n",
    "}\n",
    "scaler = StandardScaler()\n",
    "scaler.mean_ = np.array(scaler_params[\"mean_\"])\n",
    "scaler.scale_ = np.array(scaler_params[\"scale_\"])\n",
    "scaler.var_ = np.array(scaler_params[\"var_\"])\n",
    "scaler.n_samples_seen_ = scaler_params[\"n_samples_seen_\"]\n",
    "scaler.feature_names_in_ = np.array(scaler_params[\"feature_names_in_\"])\n",
    "\n",
    "print(\"Scaler restored successfully!\")"
   ]
  },
  {
   "cell_type": "code",
   "execution_count": 9,
   "id": "073ce98b-9054-4a4f-9a8e-cb2a80fc37eb",
   "metadata": {},
   "outputs": [
    {
     "name": "stdout",
     "output_type": "stream",
     "text": [
      "ConcreteStrength(\n",
      "  (model): Sequential(\n",
      "    (0): Linear(in_features=8, out_features=128, bias=True)\n",
      "    (1): ReLU()\n",
      "    (2): Linear(in_features=128, out_features=64, bias=True)\n",
      "    (3): ReLU()\n",
      "    (4): Linear(in_features=64, out_features=32, bias=True)\n",
      "    (5): ReLU()\n",
      "    (6): Linear(in_features=32, out_features=1, bias=True)\n",
      "  )\n",
      ")\n"
     ]
    }
   ],
   "source": [
    "print(model)"
   ]
  },
  {
   "cell_type": "code",
   "execution_count": 11,
   "id": "2c56f409-a5dd-4173-92b9-ada428181917",
   "metadata": {},
   "outputs": [],
   "source": [
    "test_data_path = \"Concrete_Data_Train.csv\" # provide test dataset path\n",
    "df_test = pd.read_csv(test_data_path)\n",
    "\n",
    "df_test.columns = ['Cement','BlastFurnaceSlag','FlyAsh','Water','Superplasticizer','CoarseAggregate','FineAggregate','Age','ConcreteCompressiveStrength']"
   ]
  },
  {
   "cell_type": "code",
   "execution_count": 13,
   "id": "06f37450-5250-4450-aa4f-60d61f4995fc",
   "metadata": {},
   "outputs": [],
   "source": [
    "X_test = df_test.iloc[:, :-1]\n",
    "y_test = df_test.iloc[:, -1]"
   ]
  },
  {
   "cell_type": "code",
   "execution_count": 15,
   "id": "75f2ad6f-b217-4025-bea0-8f7dc6574c57",
   "metadata": {
    "scrolled": true
   },
   "outputs": [],
   "source": [
    "X_test[\"BlastFurnaceSlag\"] = np.log1p(X_test[\"BlastFurnaceSlag\"])\n",
    "X_test[\"FlyAsh\"] = np.log1p(X_test[\"FlyAsh\"])\n",
    "X_test[\"Superplasticizer\"] = np.log1p(X_test[\"Superplasticizer\"])\n",
    "X_test[\"Age\"] = np.log1p(X_test[\"Age\"])\n",
    "\n",
    "X_test_scaled = scaler.transform(X_test)"
   ]
  },
  {
   "cell_type": "code",
   "execution_count": 17,
   "id": "978dfb82-95fe-4428-895c-c69d85c54864",
   "metadata": {},
   "outputs": [],
   "source": [
    "X_test_tensor = torch.tensor(X_test_scaled, dtype=torch.float32)\n",
    "y_test_tensor = torch.tensor(y_test.values, dtype=torch.float32).view(-1, 1)"
   ]
  },
  {
   "cell_type": "code",
   "execution_count": 19,
   "id": "6ade5451-97d8-4446-a7e8-12920a0a893c",
   "metadata": {},
   "outputs": [],
   "source": [
    "model.eval()\n",
    "with torch.no_grad():\n",
    "        y_pred = model(X_test_tensor)\n",
    "\n",
    "# predicted values\n",
    "y_pred_np = y_pred.numpy().flatten()\n",
    "\n",
    "r2score = r2_score(y_test, y_pred_np)\n",
    "mse = mean_squared_error(y_test, y_pred_np)\n",
    "rmse = np.sqrt(mse)\n",
    "mae = mean_absolute_error(y_test, y_pred_np)"
   ]
  },
  {
   "cell_type": "code",
   "execution_count": 21,
   "id": "f0028bb0-641a-44c2-895e-408b5cdb0be5",
   "metadata": {},
   "outputs": [
    {
     "name": "stdout",
     "output_type": "stream",
     "text": [
      "R² Score: 0.9839\n",
      "Root Mean Squared Error (RMSE): 2.1362\n",
      "Mean Squared Error (MSE): 4.5632\n",
      "Mean Absolute Error (MAE): 1.5502\n"
     ]
    }
   ],
   "source": [
    "print(f\"R² Score: {r2score:.4f}\")\n",
    "print(f\"Root Mean Squared Error (RMSE): {rmse:.4f}\")\n",
    "print(f\"Mean Squared Error (MSE): {mse:.4f}\")\n",
    "print(f\"Mean Absolute Error (MAE): {mae:.4f}\")"
   ]
  },
  {
   "cell_type": "code",
   "execution_count": null,
   "id": "9a760930-6ef3-4c3d-837f-2dc1e516128e",
   "metadata": {},
   "outputs": [],
   "source": []
  }
 ],
 "metadata": {
  "kernelspec": {
   "display_name": "Python [conda env:base] *",
   "language": "python",
   "name": "conda-base-py"
  },
  "language_info": {
   "codemirror_mode": {
    "name": "ipython",
    "version": 3
   },
   "file_extension": ".py",
   "mimetype": "text/x-python",
   "name": "python",
   "nbconvert_exporter": "python",
   "pygments_lexer": "ipython3",
   "version": "3.10.9"
  }
 },
 "nbformat": 4,
 "nbformat_minor": 5
}
