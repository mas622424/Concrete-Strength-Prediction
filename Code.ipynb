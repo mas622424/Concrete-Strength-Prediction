{
 "cells": [
  {
   "cell_type": "code",
   "execution_count": 1,
   "id": "20780c02-0976-4eea-aa52-e7ce97f2f676",
   "metadata": {},
   "outputs": [
    {
     "data": {
      "text/plain": [
       "Index(['Cement (component 1)(kg in a m^3 mixture)',\n",
       "       'Blast Furnace Slag (component 2)(kg in a m^3 mixture)',\n",
       "       'Fly Ash (component 3)(kg in a m^3 mixture)',\n",
       "       'Water  (component 4)(kg in a m^3 mixture)',\n",
       "       'Superplasticizer (component 5)(kg in a m^3 mixture)',\n",
       "       'Coarse Aggregate  (component 6)(kg in a m^3 mixture)',\n",
       "       'Fine Aggregate (component 7)(kg in a m^3 mixture)', 'Age (day)',\n",
       "       'Concrete compressive strength(MPa, megapascals) '],\n",
       "      dtype='object')"
      ]
     },
     "execution_count": 1,
     "metadata": {},
     "output_type": "execute_result"
    }
   ],
   "source": [
    "import pandas as pd\n",
    "import numpy as np\n",
    "import torch\n",
    "import torch.nn as nn\n",
    "import torch.optim as optim\n",
    "from sklearn.model_selection import train_test_split\n",
    "from sklearn.preprocessing import StandardScaler\n",
    "from sklearn.metrics import r2_score, mean_squared_error, mean_absolute_error\n",
    "\n",
    "train_data_path = \"Concrete_Data_Train.csv\"\n",
    "df = pd.read_csv(train_data_path)\n",
    "\n",
    "df.columns"
   ]
  },
  {
   "cell_type": "code",
   "execution_count": 3,
   "id": "7dd5f486-8750-4141-bb06-b0ab44799126",
   "metadata": {},
   "outputs": [],
   "source": [
    "# column names changed for ease of reading\n",
    "df.columns = ['Cement','BlastFurnaceSlag','FlyAsh','Water','Superplasticizer','CoarseAggregate','FineAggregate','Age','ConcreteCompressiveStrength']\n",
    "X_train = df.iloc[:, :-1]\n",
    "y_train = df.iloc[:, -1:]"
   ]
  },
  {
   "cell_type": "code",
   "execution_count": 5,
   "id": "4cdccc40-9ece-4e7e-9a0e-bfb515842ffd",
   "metadata": {},
   "outputs": [],
   "source": [
    "# neural network model\n",
    "class ConcreteStrength(nn.Module):\n",
    "        def __init__(self, input_dim):\n",
    "            super(ConcreteStrength, self).__init__()\n",
    "            self.model = nn.Sequential(\n",
    "                nn.Linear(input_dim, 128),\n",
    "                nn.ReLU(),\n",
    "                nn.Linear(128, 64),\n",
    "                nn.ReLU(),\n",
    "                nn.Linear(64, 32),\n",
    "                nn.ReLU(),\n",
    "                nn.Linear(32, 1)\n",
    "            )\n",
    "    \n",
    "        def forward(self, x):\n",
    "            return self.model(x)\n",
    "    "
   ]
  },
  {
   "cell_type": "code",
   "execution_count": 7,
   "id": "73da5ee7-73c1-479c-aae4-48eaacfb5f1b",
   "metadata": {
    "scrolled": true
   },
   "outputs": [
    {
     "name": "stdout",
     "output_type": "stream",
     "text": [
      "           Cement  BlastFurnaceSlag      FlyAsh       Water  Superplasticizer  \\\n",
      "count  824.000000        824.000000  824.000000  824.000000        824.000000   \n",
      "mean   283.360801         74.371602   53.160801  181.797087          6.163956   \n",
      "std    107.536404         86.977784   64.000646   21.321905          5.967258   \n",
      "min    102.000000          0.000000    0.000000  121.800000          0.000000   \n",
      "25%    192.000000          0.000000    0.000000  164.900000          0.000000   \n",
      "50%    275.100000         22.000000    0.000000  185.350000          6.100000   \n",
      "75%    359.900000        144.775000  118.300000  192.000000         10.125000   \n",
      "max    540.000000        359.400000  195.000000  247.000000         32.200000   \n",
      "\n",
      "       CoarseAggregate  FineAggregate         Age  ConcreteCompressiveStrength  \n",
      "count       824.000000     824.000000  824.000000                   824.000000  \n",
      "mean        973.548544     772.107403   44.661408                    35.857864  \n",
      "std          78.694630      80.984717   60.475702                    16.865099  \n",
      "min         801.000000     594.000000    1.000000                     2.330000  \n",
      "25%         932.000000     726.775000   12.250000                    23.685000  \n",
      "50%         968.000000     778.500000   28.000000                    34.080000  \n",
      "75%        1040.600000     821.250000   56.000000                    45.862500  \n",
      "max        1145.000000     992.600000  365.000000                    82.600000  \n"
     ]
    }
   ],
   "source": [
    "print(df.describe())\n",
    "# we can see that BlastFurnaceSlag, FlyAsh, Superplasticizer have high number of zeroes and age has more smaller values. So let us use log transformation for these features"
   ]
  },
  {
   "cell_type": "code",
   "execution_count": 9,
   "id": "024e79af-c811-4e90-b248-a564a5dd43fd",
   "metadata": {},
   "outputs": [],
   "source": [
    "X_train[\"BlastFurnaceSlag\"] = np.log1p(X_train[\"BlastFurnaceSlag\"])\n",
    "X_train[\"FlyAsh\"] = np.log1p(X_train[\"FlyAsh\"])\n",
    "X_train[\"Superplasticizer\"] = np.log1p(X_train[\"Superplasticizer\"])\n",
    "X_train[\"Age\"] = np.log1p(X_train[\"Age\"])\n",
    "\n",
    "scaler = StandardScaler()\n",
    "X_train_scaled = scaler.fit_transform(X_train)"
   ]
  },
  {
   "cell_type": "code",
   "execution_count": 11,
   "id": "fcba3fda-7524-4516-a6b6-d327e10cf071",
   "metadata": {
    "scrolled": true
   },
   "outputs": [
    {
     "name": "stdout",
     "output_type": "stream",
     "text": [
      "{\n",
      "    \"mean_\": [\n",
      "        283.36080097087375,\n",
      "        2.5552736017613937,\n",
      "        2.091743575425426,\n",
      "        181.79708737864075,\n",
      "        1.4479760883048582,\n",
      "        973.5485436893204,\n",
      "        772.1074029126214,\n",
      "        3.239097061274715\n",
      "    ],\n",
      "    \"scale_\": [\n",
      "        107.47113139056532,\n",
      "        2.4137541776391926,\n",
      "        2.3698221380244933,\n",
      "        21.308962544444068,\n",
      "        1.1534634219125226,\n",
      "        78.646864026356,\n",
      "        80.93556052399222,\n",
      "        1.1001286591127104\n",
      "    ],\n",
      "    \"var_\": [\n",
      "        11550.044082368155,\n",
      "        5.826209230070655,\n",
      "        5.616056965870981,\n",
      "        454.07188472052025,\n",
      "        1.3304778656901461,\n",
      "        6185.329221180129,\n",
      "        6550.564957332807,\n",
      "        1.21028306660113\n",
      "    ],\n",
      "    \"n_samples_seen_\": 824,\n",
      "    \"feature_names_in_\": [\n",
      "        \"Cement\",\n",
      "        \"BlastFurnaceSlag\",\n",
      "        \"FlyAsh\",\n",
      "        \"Water\",\n",
      "        \"Superplasticizer\",\n",
      "        \"CoarseAggregate\",\n",
      "        \"FineAggregate\",\n",
      "        \"Age\",\n",
      "        \"ConcreteCompressiveStrength\"\n",
      "    ]\n",
      "}\n"
     ]
    }
   ],
   "source": [
    "import json\n",
    "import numpy as np\n",
    "scaler.feature_names_in_ = df.columns.tolist()\n",
    "\n",
    "scaler_params = {\n",
    "    \"mean_\": scaler.mean_.tolist(),\n",
    "    \"scale_\": scaler.scale_.tolist(),\n",
    "    \"var_\": scaler.var_.tolist(),\n",
    "    \"n_samples_seen_\": int(scaler.n_samples_seen_),\n",
    "    \"feature_names_in_\": scaler.feature_names_in_\n",
    "}\n",
    "\n",
    "print(json.dumps(scaler_params, indent=4))"
   ]
  },
  {
   "cell_type": "code",
   "execution_count": 13,
   "id": "fb6ff7bf-abae-469a-b261-abba3ae8a3cc",
   "metadata": {},
   "outputs": [],
   "source": [
    "# return required metric parameters and model for given eval data ratio\n",
    "def get_train_vs_eval(ratio_v):\n",
    "    X_train_final, X_eval, y_train_final, y_eval = train_test_split(X_train_scaled, y_train, test_size=ratio_v, random_state=42)\n",
    "    \n",
    "    X_train_tensor = torch.tensor(X_train_final, dtype=torch.float32)\n",
    "    y_train_tensor = torch.tensor(y_train_final.values, dtype=torch.float32).view(-1, 1)\n",
    "    X_eval_tensor = torch.tensor(X_eval, dtype=torch.float32)\n",
    "    y_eval_tensor = torch.tensor(y_eval.values, dtype=torch.float32).view(-1, 1)\n",
    "    \n",
    "    input_dim = X_train_tensor.shape[1]\n",
    "    model = ConcreteStrength(input_dim)\n",
    "    \n",
    "    criterion = nn.MSELoss()\n",
    "    optimizer = optim.Adam(model.parameters(), lr=0.01)\n",
    "    \n",
    "    epochs = 1000\n",
    "    batch_size = 32\n",
    "    \n",
    "    for epoch in range(epochs):\n",
    "        for i in range(0, X_train_tensor.shape[0], batch_size):\n",
    "            batch_X = X_train_tensor[i:i+batch_size]\n",
    "            batch_y = y_train_tensor[i:i+batch_size]\n",
    "    \n",
    "            optimizer.zero_grad()\n",
    "            y_pred = model(batch_X)\n",
    "            loss = criterion(y_pred, batch_y)\n",
    "            loss.backward()\n",
    "            optimizer.step()\n",
    "    \n",
    "    \n",
    "    with torch.no_grad():\n",
    "        y_train_pred = model(X_train_tensor)\n",
    "    \n",
    "    y_train_pred_np = y_train_pred.numpy().flatten()\n",
    "    \n",
    "    r2_train = r2_score(y_train_final, y_train_pred_np)\n",
    "    mse_train = mean_squared_error(y_train_final, y_train_pred_np)\n",
    "    mae_train = mean_absolute_error(y_train_final, y_train_pred_np)\n",
    "    \n",
    "    \n",
    "    with torch.no_grad():\n",
    "        y_eval_pred = model(X_eval_tensor)\n",
    "    \n",
    "    y_eval_pred_np = y_eval_pred.numpy().flatten()\n",
    "    \n",
    "    r2_eval = r2_score(y_eval, y_eval_pred_np)\n",
    "    mse_eval = mean_squared_error(y_eval, y_eval_pred_np)\n",
    "    mae_eval = mean_absolute_error(y_eval, y_eval_pred_np)\n",
    "    torch.save(model, \"entire_model.pth\")\n",
    "    \n",
    "    return r2_train, mse_train, mae_train, r2_eval, mse_eval, mae_eval, model"
   ]
  },
  {
   "cell_type": "code",
   "execution_count": 15,
   "id": "b29248e9-ca6f-4758-a4c6-916f52d0d30f",
   "metadata": {},
   "outputs": [
    {
     "name": "stdout",
     "output_type": "stream",
     "text": [
      "For training data:\n",
      "R² Score: 0.9869\n",
      "MSE: 3.6540\n",
      "MAE: 1.2937\n",
      "For evaluation data:\n",
      "R² Score: 0.9510\n",
      "MSE: 16.2898\n",
      "MAE: 2.8434\n"
     ]
    }
   ],
   "source": [
    "# median of required metrics over some reps. Model in each rep is stored in models list\n",
    "r2t_list = []\n",
    "mset_list = []\n",
    "mae_list =[]\n",
    "r2e_list = []\n",
    "msee_list = []\n",
    "maee_list = []\n",
    "reps = 20\n",
    "models = []\n",
    "for i in range(reps):\n",
    "    r2_train, mse_train, mae_train, r2_eval, mse_eval, mae_eval, model = get_train_vs_eval(0.1)\n",
    "    r2t_list.append(r2_train)\n",
    "    mset_list.append(mse_train)\n",
    "    mae_list.append(mae_train)\n",
    "    r2e_list.append(r2_eval)\n",
    "    msee_list.append(mse_eval)\n",
    "    maee_list.append(mae_eval)\n",
    "    models.append(model)\n",
    "\n",
    "# Have not printed RMSE as MSE is already printed\n",
    "print(\"For training data:\")\n",
    "print(f\"R² Score: {np.median(r2t_list):.4f}\")\n",
    "print(f\"MSE: {np.median(mset_list):.4f}\")\n",
    "print(f\"MAE: {np.median(mae_list):.4f}\")\n",
    "print(\"For evaluation data:\")\n",
    "print(f\"R² Score: {np.median(r2e_list):.4f}\")\n",
    "print(f\"MSE: {np.median(msee_list):.4f}\")\n",
    "print(f\"MAE: {np.median(maee_list):.4f}\")"
   ]
  },
  {
   "cell_type": "markdown",
   "id": "91b64600-f229-409e-8c7b-2b612fe46f0e",
   "metadata": {},
   "source": [
    "__Following data is medians of metrics when evaluated 30 reps for respective ratios__\n",
    "\n",
    "__For 0.1 :-__\n",
    "For training data:\n",
    "R² Score: 0.9874\n",
    "MSE: 3.5141\n",
    "MAE: 1.2278\n",
    "For evaluation data:\n",
    "R² Score: 0.9578\n",
    "MSE: 14.0352\n",
    "MAE: 2.6801\n",
    "\n",
    "__For 0.15__\n",
    "For training data:\n",
    "R² Score: 0.9851\n",
    "MSE: 4.1923\n",
    "MAE: 1.3710\n",
    "For evaluation data:\n",
    "R² Score: 0.9519\n",
    "MSE: 14.3603\n",
    "MAE: 2.6941\n",
    "\n",
    "__For 0.2__\n",
    "For training data:\n",
    "R² Score: 0.9753\n",
    "MSE: 7.0188\n",
    "MAE: 1.9683\n",
    "For evaluation data:\n",
    "R² Score: 0.8972\n",
    "MSE: 28.8752\n",
    "MAE: 3.7538\n",
    "\n",
    "__For 0.25__\n",
    "For training data:\n",
    "R² Score: 0.9771\n",
    "MSE: 6.3570\n",
    "MAE: 1.7626\n",
    "For evaluation data:\n",
    "R² Score: 0.8861\n",
    "MSE: 34.7276\n",
    "MAE: 3.8904"
   ]
  },
  {
   "cell_type": "code",
   "execution_count": null,
   "id": "a86ac2ef-ca70-4bd6-b414-d03410db03ab",
   "metadata": {},
   "outputs": [],
   "source": []
  }
 ],
 "metadata": {
  "kernelspec": {
   "display_name": "Python 3 (ipykernel)",
   "language": "python",
   "name": "python3"
  },
  "language_info": {
   "codemirror_mode": {
    "name": "ipython",
    "version": 3
   },
   "file_extension": ".py",
   "mimetype": "text/x-python",
   "name": "python",
   "nbconvert_exporter": "python",
   "pygments_lexer": "ipython3",
   "version": "3.13.2"
  }
 },
 "nbformat": 4,
 "nbformat_minor": 5
}
